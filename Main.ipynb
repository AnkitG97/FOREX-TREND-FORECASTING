{
 "cells": [
  {
   "cell_type": "markdown",
   "id": "bcf57ae3-3580-460c-a73a-11025ecac231",
   "metadata": {},
   "source": [
    "### Implementation of FOREX TREND FORECASTING BASED ON LONG SHORT TERM MEMORY AND ITS VARIATIONS WITH HYBRID ACTIVATION FUNCTIONS"
   ]
  },
  {
   "cell_type": "code",
   "execution_count": 1,
   "id": "957fd40f-99c7-403d-b996-0d7be1ca897d",
   "metadata": {},
   "outputs": [],
   "source": [
    "import numpy as np\n",
    "import pandas as pd\n",
    "from sklearn.model_selection import KFold\n",
    "from tensorflow.keras.models import Sequential\n",
    "from tensorflow.keras.layers import RNN, Dense\n",
    "from sklearn.model_selection import train_test_split\n",
    "from sklearn.preprocessing import MinMaxScaler\n",
    "import tensorflow as tf\n",
    "from ForexLSTMTrainer import ForexLSTMTrainer"
   ]
  },
  {
   "cell_type": "markdown",
   "id": "c14322e1-a8b2-45ef-ab81-77a8eca54c95",
   "metadata": {},
   "source": [
    "## Data (Random generated)"
   ]
  },
  {
   "cell_type": "code",
   "execution_count": 4,
   "id": "34e245e3-9a3c-45fc-9779-1b61052f4e6e",
   "metadata": {},
   "outputs": [],
   "source": [
    "# Generate sample OHLC forex data\n",
    "data_points = 500\n",
    "\n",
    "np.random.seed(42)  # For reproducibility\n",
    "dates = pd.date_range(start=\"2024-01-01\", periods=data_points, freq=\"D\")  # 100 days of data\n",
    "\n",
    "# Generate random price movements\n",
    "close_prices = np.cumsum(np.random.randn(data_points) * 0.5 + 1) + 100  # Random walk with upward trend\n",
    "open_prices = close_prices + np.random.randn(data_points) * 0.3  # Small variation from close\n",
    "high_prices = close_prices + np.random.rand(data_points) * 0.5  # Slightly higher than close\n",
    "low_prices = close_prices - np.random.rand(data_points) * 0.5  # Slightly lower than close\n",
    "\n",
    "# Create DataFrame\n",
    "ohlc_df = pd.DataFrame({\n",
    "    \"Date\": dates,\n",
    "    \"Open\": open_prices,\n",
    "    \"High\": high_prices,\n",
    "    \"Low\": low_prices,\n",
    "    \"Close\": close_prices\n",
    "})\n"
   ]
  },
  {
   "cell_type": "markdown",
   "id": "7987eae5-33e1-45c8-80cb-7718e375a14e",
   "metadata": {},
   "source": [
    "## Run Pipeline"
   ]
  },
  {
   "cell_type": "code",
   "execution_count": null,
   "id": "bc9acfe7-ca4c-4168-9156-1a70664565e7",
   "metadata": {},
   "outputs": [],
   "source": [
    "# Initialize the class\n",
    "forex_trainer = ForexLSTMTrainer(ohlc_df, timesteps=100, test_size=0.1, val_size=0.1)\n",
    "\n",
    "# Run the full pipeline\n",
    "forex_trainer.run_pipeline()\n"
   ]
  },
  {
   "cell_type": "code",
   "execution_count": null,
   "id": "3e286011-552f-4631-b9bb-6bcd5ec00252",
   "metadata": {},
   "outputs": [],
   "source": []
  }
 ],
 "metadata": {
  "kernelspec": {
   "display_name": "Python 3 (ipykernel)",
   "language": "python",
   "name": "python3"
  },
  "language_info": {
   "codemirror_mode": {
    "name": "ipython",
    "version": 3
   },
   "file_extension": ".py",
   "mimetype": "text/x-python",
   "name": "python",
   "nbconvert_exporter": "python",
   "pygments_lexer": "ipython3",
   "version": "3.11.7"
  }
 },
 "nbformat": 4,
 "nbformat_minor": 5
}
